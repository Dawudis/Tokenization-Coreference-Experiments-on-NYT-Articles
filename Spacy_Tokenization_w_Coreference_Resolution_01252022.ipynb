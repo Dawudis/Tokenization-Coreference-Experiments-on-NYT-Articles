{
  "nbformat": 4,
  "nbformat_minor": 0,
  "metadata": {
    "colab": {
      "name": "Spacy Tokenization w/ Coreference Resolution - 01252022",
      "provenance": [],
      "collapsed_sections": [],
      "include_colab_link": true
    },
    "kernelspec": {
      "name": "python3",
      "display_name": "Python 3"
    },
    "language_info": {
      "name": "python"
    }
  },
  "cells": [
    {
      "cell_type": "markdown",
      "metadata": {
        "id": "view-in-github",
        "colab_type": "text"
      },
      "source": [
        "<a href=\"https://colab.research.google.com/github/Dawudis/Tokenization-Coreference-Experiments-on-NYT-Articles/blob/main/Spacy_Tokenization_w_Coreference_Resolution_01252022.ipynb\" target=\"_parent\"><img src=\"https://colab.research.google.com/assets/colab-badge.svg\" alt=\"Open In Colab\"/></a>"
      ]
    },
    {
      "cell_type": "markdown",
      "source": [
        "# **Scraping NYT Articles**"
      ],
      "metadata": {
        "id": "7ht7sz-CrEY5"
      }
    },
    {
      "cell_type": "code",
      "metadata": {
        "id": "wb1jG9VnUKi0"
      },
      "source": [
        "#use pynytimes to extract article urls from nytimes\n",
        "%pip install pynytimes"
      ],
      "execution_count": null,
      "outputs": []
    },
    {
      "cell_type": "code",
      "metadata": {
        "id": "EYE3xxajqxDX"
      },
      "source": [
        "import datetime\n",
        "\n",
        "from pynytimes import NYTAPI\n",
        "nyt = NYTAPI(\"A7EB13Chd5XLpap0NnRKyAhG508q0PPy\", parse_dates=True) # enter my NY Times API Key\n",
        "\n",
        "# to see more on pynytimes, go to: https://github.com/michadenheijer/pynytimes\n",
        "\n",
        "articles = nyt.article_search(\n",
        "    query = \"politics\",\n",
        "    results = 30,\n",
        "    dates = {\n",
        "        \"begin\": datetime.datetime(2021, 1, 1), \n",
        "        \"end\": datetime.datetime(2022, 1, 1) #extracting article urls from 1/1/2021 to 1/1/2022\n",
        "    }\n",
        ")"
      ],
      "execution_count": 2,
      "outputs": []
    },
    {
      "cell_type": "code",
      "metadata": {
        "id": "o4tq5s7-3CLn",
        "colab": {
          "base_uri": "https://localhost:8080/"
        },
        "outputId": "3b54ec00-20af-45e6-d06c-a11f2a9252ba"
      },
      "source": [
        "import pandas as pd\n",
        "df = pd.DataFrame(articles, columns= ['web_url']) #input article urls into dataframe \n",
        "print (df.head())\n",
        "print(df.columns)\n",
        "print(df.shape)"
      ],
      "execution_count": 3,
      "outputs": [
        {
          "output_type": "stream",
          "name": "stdout",
          "text": [
            "                                             web_url\n",
            "0  https://www.nytimes.com/2021/12/23/us/politics...\n",
            "1  https://www.nytimes.com/2021/12/31/us/politics...\n",
            "2  https://www.nytimes.com/2021/12/12/arts/televi...\n",
            "3  https://www.nytimes.com/2021/12/30/us/white-ho...\n",
            "4  https://www.nytimes.com/2021/12/30/opinion/sup...\n",
            "Index(['web_url'], dtype='object')\n",
            "(30, 1)\n"
          ]
        }
      ]
    },
    {
      "cell_type": "code",
      "metadata": {
        "id": "pt36l32xxlP8"
      },
      "source": [
        "#use news-please to scrape article urls \n",
        "!pip3 install news-please"
      ],
      "execution_count": null,
      "outputs": []
    },
    {
      "cell_type": "code",
      "metadata": {
        "id": "C2FT8zl52Vxu"
      },
      "source": [
        "from newsplease import NewsPlease\n",
        "\n",
        "result = []\n",
        "for i in df[\"web_url\"]: \n",
        "  result.append(NewsPlease.from_url(i).maintext)\n",
        "# for every item (url) in the dataframe, we are applying the newsplease function to get scrape the text\n",
        "# note that result is a list of the articles. \n",
        "\n",
        "# we have to convert the list of articles content into a text file so that we can tokenize that text file into sentences.\n",
        "textfile = open(\"nyarticles.txt\", \"w\") \n",
        "for element in result:\n",
        "    textfile.write(element + \"\\n\")\n",
        "textfile.close()"
      ],
      "execution_count": 5,
      "outputs": []
    },
    {
      "cell_type": "code",
      "metadata": {
        "id": "nG4emU2tAklz"
      },
      "source": [
        "f = open('nyarticles.txt', 'r')\n",
        "data=f.read() #The read() method in Python is a pre-defined function which returns the read data in the form of a string. "
      ],
      "execution_count": 6,
      "outputs": []
    },
    {
      "cell_type": "markdown",
      "source": [
        "# **Apply Coreference Resolution + Tokenize + Clean the Text and Apply the Entity Extraction Function**"
      ],
      "metadata": {
        "id": "JGXP8zB0rRAq"
      }
    },
    {
      "cell_type": "code",
      "source": [
        "#install necessary dependencies for neural coref.\n",
        "!pip install spacy==2.1.0\n",
        "!python -m spacy download en\n",
        "!pip install neuralcoref\n",
        "import spacy\n",
        "import neuralcoref\n",
        "nlp = spacy.load('en')\n",
        "neuralcoref.add_to_pipe(nlp)"
      ],
      "metadata": {
        "id": "L_pbmRO95-HF"
      },
      "execution_count": null,
      "outputs": []
    },
    {
      "cell_type": "code",
      "source": [
        "#convert article text into coref. resolved text\n",
        "doc = nlp(data)\n",
        "coref_resolved = doc._.coref_resolved"
      ],
      "metadata": {
        "id": "Pvqs7xJa6Adz"
      },
      "execution_count": 8,
      "outputs": []
    },
    {
      "cell_type": "code",
      "source": [
        "#use spacy again to tokenize the sentences as well as to create the entity extraction function after this\n",
        "#for the tokenization, we had to change the model for better accuracy\n",
        "nlp1 = spacy.load(\"en_core_web_sm\")\n",
        "doc1 = nlp1(coref_resolved)\n",
        "sentences = doc1.sents #tokenize the doc and give the output to 'sentences'"
      ],
      "metadata": {
        "id": "XU6h0WEwyHXa"
      },
      "execution_count": 9,
      "outputs": []
    },
    {
      "cell_type": "code",
      "source": [
        "#create entity extraction function: (any sentence in the text with a PERSON'S name is put into \"test_list\")\n",
        "test_list = []\n",
        "for item in sentences:\n",
        "  for ent in item.ents:\n",
        "    if ent.label_ == \"PERSON\":\n",
        "      test_list.append(item)"
      ],
      "metadata": {
        "id": "43tCY7meK3MA"
      },
      "execution_count": 10,
      "outputs": []
    },
    {
      "cell_type": "code",
      "source": [
        "#test_list seems to have multiple repetitions of sentences\n",
        "test_list[0:5]"
      ],
      "metadata": {
        "id": "9uV9OHyZBNqd",
        "colab": {
          "base_uri": "https://localhost:8080/"
        },
        "outputId": "0c0523af-4266-4949-a5ec-3c1fa20380cc"
      },
      "execution_count": 11,
      "outputs": [
        {
          "output_type": "execute_result",
          "data": {
            "text/plain": [
              "[the 50-50 split in the Senate means that Vice President Kamala Harris must break tied votes,\n",
              " Similarly, Biden made an early two-pronged bet about the midterms: that a surging economy and a waning threat from the coronavirus would deliver victory to the Democrats.,\n",
              " “Chief Justice Roberts is taking a page from “Chief Justice Roberts old playbook: acknowledging institutional challenges in the judiciary but telling the public that only we judges can fix only we judges,” Mr. Roth said.,\n",
              " “Chief Justice Roberts is taking a page from “Chief Justice Roberts old playbook: acknowledging institutional challenges in the judiciary but telling the public that only we judges can fix only we judges,” Mr. Roth said.,\n",
              " “Chief Justice Roberts is taking a page from “Chief Justice Roberts old playbook: acknowledging institutional challenges in the judiciary but telling the public that only we judges can fix only we judges,” Mr. Roth said.]"
            ]
          },
          "metadata": {},
          "execution_count": 11
        }
      ]
    },
    {
      "cell_type": "code",
      "source": [
        "#create function to remove repetitive sentences from the text\n",
        "repitition_removal = [] \n",
        "for i in test_list: \n",
        "    if i not in repitition_removal: \n",
        "        repitition_removal.append(i)"
      ],
      "metadata": {
        "id": "jR5MnqFAMFjc"
      },
      "execution_count": 12,
      "outputs": []
    },
    {
      "cell_type": "code",
      "source": [
        "#repitition_removal's items are in a span format, which won't work in a dataframe\n",
        "repitition_removal[0:5]"
      ],
      "metadata": {
        "id": "LeS84QreMLhj",
        "colab": {
          "base_uri": "https://localhost:8080/"
        },
        "outputId": "5bf68062-425c-41ae-863a-6ae9c986a025"
      },
      "execution_count": 13,
      "outputs": [
        {
          "output_type": "execute_result",
          "data": {
            "text/plain": [
              "[the 50-50 split in the Senate means that Vice President Kamala Harris must break tied votes,\n",
              " Similarly, Biden made an early two-pronged bet about the midterms: that a surging economy and a waning threat from the coronavirus would deliver victory to the Democrats.,\n",
              " “Chief Justice Roberts is taking a page from “Chief Justice Roberts old playbook: acknowledging institutional challenges in the judiciary but telling the public that only we judges can fix only we judges,” Mr. Roth said.,\n",
              " Chief Justice Roberts “Chief Justice Roberts addressed at some length a recent series of articles in The Wall Street Journal that found that 131 federal judges had violated a federal law by hearing 685 lawsuits between 2010 and 2018 that involved companies in which they or they families owned shares of stock.,\n",
              " Sesame Street,” which premiered in 1969, was the project of Joan Ganz Cooney, a TV executive who was originally more interested in the civil rights movement than in education but came to see the connection between the two.]"
            ]
          },
          "metadata": {},
          "execution_count": 13
        }
      ]
    },
    {
      "cell_type": "markdown",
      "source": [
        "# **Input Results Into DataFrame**"
      ],
      "metadata": {
        "id": "V_fICHiSrZZx"
      }
    },
    {
      "cell_type": "code",
      "source": [
        "#so we convert each element of the list into a string\n",
        "sentences = list(map(str, repitition_removal))\n",
        "sentences[0:5]"
      ],
      "metadata": {
        "id": "paBwfw8K9kXO",
        "colab": {
          "base_uri": "https://localhost:8080/"
        },
        "outputId": "31dd1527-fb0e-4cae-e79b-cd5ec619283b"
      },
      "execution_count": 14,
      "outputs": [
        {
          "output_type": "execute_result",
          "data": {
            "text/plain": [
              "['the 50-50 split in the Senate means that Vice President Kamala Harris must break tied votes',\n",
              " 'Similarly, Biden made an early two-pronged bet about the midterms: that a surging economy and a waning threat from the coronavirus would deliver victory to the Democrats.\\n',\n",
              " '“Chief Justice Roberts is taking a page from “Chief Justice Roberts old playbook: acknowledging institutional challenges in the judiciary but telling the public that only we judges can fix only we judges,” Mr. Roth said.',\n",
              " 'Chief Justice Roberts “Chief Justice Roberts addressed at some length a recent series of articles in The Wall Street Journal that found that 131 federal judges had violated a federal law by hearing 685 lawsuits between 2010 and 2018 that involved companies in which they or they families owned shares of stock.\\n',\n",
              " 'Sesame Street,” which premiered in 1969, was the project of Joan Ganz Cooney, a TV executive who was originally more interested in the civil rights movement than in education but came to see the connection between the two.']"
            ]
          },
          "metadata": {},
          "execution_count": 14
        }
      ]
    },
    {
      "cell_type": "code",
      "source": [
        "sent=pd.DataFrame(sentences, columns=['sentences']) # converting the list to dataframe. The dataframe is called 'sent' - from sentences.\n",
        "sent.head()"
      ],
      "metadata": {
        "id": "kAX66H85Wt9-",
        "colab": {
          "base_uri": "https://localhost:8080/",
          "height": 206
        },
        "outputId": "013571e2-9009-46e5-b551-d4d8bb394bc4"
      },
      "execution_count": 15,
      "outputs": [
        {
          "output_type": "execute_result",
          "data": {
            "text/html": [
              "\n",
              "  <div id=\"df-54dff870-54c5-4173-8582-d5ad13d0422c\">\n",
              "    <div class=\"colab-df-container\">\n",
              "      <div>\n",
              "<style scoped>\n",
              "    .dataframe tbody tr th:only-of-type {\n",
              "        vertical-align: middle;\n",
              "    }\n",
              "\n",
              "    .dataframe tbody tr th {\n",
              "        vertical-align: top;\n",
              "    }\n",
              "\n",
              "    .dataframe thead th {\n",
              "        text-align: right;\n",
              "    }\n",
              "</style>\n",
              "<table border=\"1\" class=\"dataframe\">\n",
              "  <thead>\n",
              "    <tr style=\"text-align: right;\">\n",
              "      <th></th>\n",
              "      <th>sentences</th>\n",
              "    </tr>\n",
              "  </thead>\n",
              "  <tbody>\n",
              "    <tr>\n",
              "      <th>0</th>\n",
              "      <td>the 50-50 split in the Senate means that Vice ...</td>\n",
              "    </tr>\n",
              "    <tr>\n",
              "      <th>1</th>\n",
              "      <td>Similarly, Biden made an early two-pronged bet...</td>\n",
              "    </tr>\n",
              "    <tr>\n",
              "      <th>2</th>\n",
              "      <td>“Chief Justice Roberts is taking a page from “...</td>\n",
              "    </tr>\n",
              "    <tr>\n",
              "      <th>3</th>\n",
              "      <td>Chief Justice Roberts “Chief Justice Roberts a...</td>\n",
              "    </tr>\n",
              "    <tr>\n",
              "      <th>4</th>\n",
              "      <td>Sesame Street,” which premiered in 1969, was t...</td>\n",
              "    </tr>\n",
              "  </tbody>\n",
              "</table>\n",
              "</div>\n",
              "      <button class=\"colab-df-convert\" onclick=\"convertToInteractive('df-54dff870-54c5-4173-8582-d5ad13d0422c')\"\n",
              "              title=\"Convert this dataframe to an interactive table.\"\n",
              "              style=\"display:none;\">\n",
              "        \n",
              "  <svg xmlns=\"http://www.w3.org/2000/svg\" height=\"24px\"viewBox=\"0 0 24 24\"\n",
              "       width=\"24px\">\n",
              "    <path d=\"M0 0h24v24H0V0z\" fill=\"none\"/>\n",
              "    <path d=\"M18.56 5.44l.94 2.06.94-2.06 2.06-.94-2.06-.94-.94-2.06-.94 2.06-2.06.94zm-11 1L8.5 8.5l.94-2.06 2.06-.94-2.06-.94L8.5 2.5l-.94 2.06-2.06.94zm10 10l.94 2.06.94-2.06 2.06-.94-2.06-.94-.94-2.06-.94 2.06-2.06.94z\"/><path d=\"M17.41 7.96l-1.37-1.37c-.4-.4-.92-.59-1.43-.59-.52 0-1.04.2-1.43.59L10.3 9.45l-7.72 7.72c-.78.78-.78 2.05 0 2.83L4 21.41c.39.39.9.59 1.41.59.51 0 1.02-.2 1.41-.59l7.78-7.78 2.81-2.81c.8-.78.8-2.07 0-2.86zM5.41 20L4 18.59l7.72-7.72 1.47 1.35L5.41 20z\"/>\n",
              "  </svg>\n",
              "      </button>\n",
              "      \n",
              "  <style>\n",
              "    .colab-df-container {\n",
              "      display:flex;\n",
              "      flex-wrap:wrap;\n",
              "      gap: 12px;\n",
              "    }\n",
              "\n",
              "    .colab-df-convert {\n",
              "      background-color: #E8F0FE;\n",
              "      border: none;\n",
              "      border-radius: 50%;\n",
              "      cursor: pointer;\n",
              "      display: none;\n",
              "      fill: #1967D2;\n",
              "      height: 32px;\n",
              "      padding: 0 0 0 0;\n",
              "      width: 32px;\n",
              "    }\n",
              "\n",
              "    .colab-df-convert:hover {\n",
              "      background-color: #E2EBFA;\n",
              "      box-shadow: 0px 1px 2px rgba(60, 64, 67, 0.3), 0px 1px 3px 1px rgba(60, 64, 67, 0.15);\n",
              "      fill: #174EA6;\n",
              "    }\n",
              "\n",
              "    [theme=dark] .colab-df-convert {\n",
              "      background-color: #3B4455;\n",
              "      fill: #D2E3FC;\n",
              "    }\n",
              "\n",
              "    [theme=dark] .colab-df-convert:hover {\n",
              "      background-color: #434B5C;\n",
              "      box-shadow: 0px 1px 3px 1px rgba(0, 0, 0, 0.15);\n",
              "      filter: drop-shadow(0px 1px 2px rgba(0, 0, 0, 0.3));\n",
              "      fill: #FFFFFF;\n",
              "    }\n",
              "  </style>\n",
              "\n",
              "      <script>\n",
              "        const buttonEl =\n",
              "          document.querySelector('#df-54dff870-54c5-4173-8582-d5ad13d0422c button.colab-df-convert');\n",
              "        buttonEl.style.display =\n",
              "          google.colab.kernel.accessAllowed ? 'block' : 'none';\n",
              "\n",
              "        async function convertToInteractive(key) {\n",
              "          const element = document.querySelector('#df-54dff870-54c5-4173-8582-d5ad13d0422c');\n",
              "          const dataTable =\n",
              "            await google.colab.kernel.invokeFunction('convertToInteractive',\n",
              "                                                     [key], {});\n",
              "          if (!dataTable) return;\n",
              "\n",
              "          const docLinkHtml = 'Like what you see? Visit the ' +\n",
              "            '<a target=\"_blank\" href=https://colab.research.google.com/notebooks/data_table.ipynb>data table notebook</a>'\n",
              "            + ' to learn more about interactive tables.';\n",
              "          element.innerHTML = '';\n",
              "          dataTable['output_type'] = 'display_data';\n",
              "          await google.colab.output.renderOutput(dataTable, element);\n",
              "          const docLink = document.createElement('div');\n",
              "          docLink.innerHTML = docLinkHtml;\n",
              "          element.appendChild(docLink);\n",
              "        }\n",
              "      </script>\n",
              "    </div>\n",
              "  </div>\n",
              "  "
            ],
            "text/plain": [
              "                                           sentences\n",
              "0  the 50-50 split in the Senate means that Vice ...\n",
              "1  Similarly, Biden made an early two-pronged bet...\n",
              "2  “Chief Justice Roberts is taking a page from “...\n",
              "3  Chief Justice Roberts “Chief Justice Roberts a...\n",
              "4  Sesame Street,” which premiered in 1969, was t..."
            ]
          },
          "metadata": {},
          "execution_count": 15
        }
      ]
    },
    {
      "cell_type": "code",
      "source": [
        "sent.to_csv('2021-2022corefspacy.csv', index=False) #converts dataframe to csv"
      ],
      "metadata": {
        "id": "5E8MDHWuaX-8"
      },
      "execution_count": 16,
      "outputs": []
    },
    {
      "cell_type": "code",
      "source": [
        "#downloads csv file onto computer\n",
        "from google.colab import files\n",
        "files.download('2021-2022corefspacy.csv')"
      ],
      "metadata": {
        "id": "jPqRA5r4goT0"
      },
      "execution_count": 17,
      "outputs": []
    }
  ]
}