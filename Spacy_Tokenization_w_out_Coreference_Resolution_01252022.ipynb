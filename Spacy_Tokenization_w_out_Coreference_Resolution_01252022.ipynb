{
  "nbformat": 4,
  "nbformat_minor": 0,
  "metadata": {
    "colab": {
      "name": "Spacy Tokenization w/ out Coreference Resolution - 01252022",
      "provenance": [],
      "collapsed_sections": [],
      "include_colab_link": true
    },
    "kernelspec": {
      "name": "python3",
      "display_name": "Python 3"
    },
    "language_info": {
      "name": "python"
    }
  },
  "cells": [
    {
      "cell_type": "markdown",
      "metadata": {
        "id": "view-in-github",
        "colab_type": "text"
      },
      "source": [
        "<a href=\"https://colab.research.google.com/github/Dawudis/Tokenization-Coreference-Experiments-on-NYT-Articles/blob/main/Spacy_Tokenization_w_out_Coreference_Resolution_01252022.ipynb\" target=\"_parent\"><img src=\"https://colab.research.google.com/assets/colab-badge.svg\" alt=\"Open In Colab\"/></a>"
      ]
    },
    {
      "cell_type": "markdown",
      "source": [
        "# **Scraping NYT Articles**"
      ],
      "metadata": {
        "id": "7ht7sz-CrEY5"
      }
    },
    {
      "cell_type": "code",
      "metadata": {
        "id": "wb1jG9VnUKi0"
      },
      "source": [
        "#use pynytimes to extract article urls from nytimes\n",
        "%pip install pynytimes"
      ],
      "execution_count": null,
      "outputs": []
    },
    {
      "cell_type": "code",
      "metadata": {
        "id": "EYE3xxajqxDX"
      },
      "source": [
        "import datetime\n",
        "\n",
        "from pynytimes import NYTAPI\n",
        "nyt = NYTAPI(\"A7EB13Chd5XLpap0NnRKyAhG508q0PPy\", parse_dates=True) # enter my NY Times API Key\n",
        "\n",
        "# to see more on pynytimes, go to: https://github.com/michadenheijer/pynytimes\n",
        "\n",
        "articles = nyt.article_search(\n",
        "    query = \"politics\",\n",
        "    results = 30,\n",
        "    dates = {\n",
        "        \"begin\": datetime.datetime(2021, 1, 1), \n",
        "        \"end\": datetime.datetime(2022, 1, 1) #extracting article urls from 1/1/2021 to 1/1/2022\n",
        "    }\n",
        ")"
      ],
      "execution_count": 2,
      "outputs": []
    },
    {
      "cell_type": "code",
      "metadata": {
        "id": "o4tq5s7-3CLn",
        "colab": {
          "base_uri": "https://localhost:8080/"
        },
        "outputId": "32b64de8-b4ec-429c-d685-7a933760d394"
      },
      "source": [
        "import pandas as pd\n",
        "df = pd.DataFrame(articles, columns= ['web_url']) #input article urls into dataframe \n",
        "print (df.head())\n",
        "print(df.columns)\n",
        "print(df.shape)"
      ],
      "execution_count": 3,
      "outputs": [
        {
          "output_type": "stream",
          "name": "stdout",
          "text": [
            "                                             web_url\n",
            "0  https://www.nytimes.com/2021/12/23/us/politics...\n",
            "1  https://www.nytimes.com/2021/12/31/us/politics...\n",
            "2  https://www.nytimes.com/2021/12/12/arts/televi...\n",
            "3  https://www.nytimes.com/2021/12/30/us/white-ho...\n",
            "4  https://www.nytimes.com/2021/12/30/opinion/sup...\n",
            "Index(['web_url'], dtype='object')\n",
            "(30, 1)\n"
          ]
        }
      ]
    },
    {
      "cell_type": "code",
      "metadata": {
        "id": "pt36l32xxlP8"
      },
      "source": [
        "#use news-please to scrape article urls \n",
        "!pip3 install news-please"
      ],
      "execution_count": null,
      "outputs": []
    },
    {
      "cell_type": "code",
      "metadata": {
        "id": "C2FT8zl52Vxu"
      },
      "source": [
        "from newsplease import NewsPlease\n",
        "\n",
        "result = []\n",
        "for i in df[\"web_url\"]: \n",
        "  result.append(NewsPlease.from_url(i).maintext)\n",
        "# for every item (url) in the dataframe, we are applying the newsplease function to get scrape the text\n",
        "# note that result is a list of the articles. \n",
        "\n",
        "# we have to convert the list of articles content into a text file so that we can tokenize that text file into sentences.\n",
        "textfile = open(\"nyarticles.txt\", \"w\") \n",
        "for element in result:\n",
        "    textfile.write(element + \"\\n\")\n",
        "textfile.close()"
      ],
      "execution_count": 5,
      "outputs": []
    },
    {
      "cell_type": "code",
      "metadata": {
        "id": "nG4emU2tAklz"
      },
      "source": [
        "f = open('nyarticles.txt', 'r')\n",
        "data=f.read() #The read() method in Python is a pre-defined function which returns the read data in the form of a string. "
      ],
      "execution_count": 6,
      "outputs": []
    },
    {
      "cell_type": "markdown",
      "source": [
        "# **Tokenize + Clean the Text and Apply the Entity Extraction Function**"
      ],
      "metadata": {
        "id": "JGXP8zB0rRAq"
      }
    },
    {
      "cell_type": "code",
      "source": [
        "# use spacy to tokenize the sentences as well as to create the entity extraction function after this\n",
        "import spacy\n",
        "nlp = spacy.load(\"en_core_web_sm\")"
      ],
      "metadata": {
        "id": "0I58zv8kqiPj"
      },
      "execution_count": 7,
      "outputs": []
    },
    {
      "cell_type": "code",
      "source": [
        "doc = nlp(data)\n",
        "sentences = doc.sents #tokenize the doc and give the output to 'sentences'"
      ],
      "metadata": {
        "id": "XU6h0WEwyHXa"
      },
      "execution_count": 8,
      "outputs": []
    },
    {
      "cell_type": "code",
      "source": [
        "#create entity extraction function: (any sentence in the text with a PERSON'S name is put into \"test_list\")\n",
        "test_list = []\n",
        "for item in sentences:\n",
        "  for ent in item.ents:\n",
        "    if ent.label_ == \"PERSON\":\n",
        "      test_list.append(item)"
      ],
      "metadata": {
        "id": "43tCY7meK3MA"
      },
      "execution_count": 9,
      "outputs": []
    },
    {
      "cell_type": "code",
      "source": [
        "#test_list seems to have multiple repetitions of sentences\n",
        "test_list[0:5]"
      ],
      "metadata": {
        "id": "9uV9OHyZBNqd",
        "colab": {
          "base_uri": "https://localhost:8080/"
        },
        "outputId": "d829ed7e-7bba-47d6-a489-69921c122e28"
      },
      "execution_count": 10,
      "outputs": [
        {
          "output_type": "execute_result",
          "data": {
            "text/plain": [
              "[But the party’s hold on power is so slim — the 50-50 split in the Senate means that Vice President Kamala Harris must break tied votes — that the entire Biden agenda is dependent on every single Democrat’s falling into line.,\n",
              " President Biden:,\n",
              " “Chief Justice Roberts is taking a page from his old playbook: acknowledging institutional challenges in the judiciary but telling the public that only we judges can fix them,” Mr. Roth said.,\n",
              " “Chief Justice Roberts is taking a page from his old playbook: acknowledging institutional challenges in the judiciary but telling the public that only we judges can fix them,” Mr. Roth said.,\n",
              " Chief Justice Roberts addressed at some length a recent series of articles in The Wall Street Journal that found that 131 federal judges had violated a federal law by hearing 685 lawsuits between 2010 and 2018 that involved companies in which they or their families owned shares of stock.]"
            ]
          },
          "metadata": {},
          "execution_count": 10
        }
      ]
    },
    {
      "cell_type": "code",
      "source": [
        "#create function to remove repetitive sentences from the text\n",
        "repitition_removal = [] \n",
        "for i in test_list: \n",
        "    if i not in repitition_removal: \n",
        "        repitition_removal.append(i)"
      ],
      "metadata": {
        "id": "jR5MnqFAMFjc"
      },
      "execution_count": 11,
      "outputs": []
    },
    {
      "cell_type": "code",
      "source": [
        "#repitition_removal's items are in a span format, which won't work in a dataframe\n",
        "repitition_removal[0:5]"
      ],
      "metadata": {
        "id": "LeS84QreMLhj",
        "colab": {
          "base_uri": "https://localhost:8080/"
        },
        "outputId": "8c8f85a0-324e-4c04-a717-023834a0a478"
      },
      "execution_count": 12,
      "outputs": [
        {
          "output_type": "execute_result",
          "data": {
            "text/plain": [
              "[But the party’s hold on power is so slim — the 50-50 split in the Senate means that Vice President Kamala Harris must break tied votes — that the entire Biden agenda is dependent on every single Democrat’s falling into line.,\n",
              " President Biden:,\n",
              " “Chief Justice Roberts is taking a page from his old playbook: acknowledging institutional challenges in the judiciary but telling the public that only we judges can fix them,” Mr. Roth said.,\n",
              " Chief Justice Roberts addressed at some length a recent series of articles in The Wall Street Journal that found that 131 federal judges had violated a federal law by hearing 685 lawsuits between 2010 and 2018 that involved companies in which they or their families owned shares of stock.,\n",
              " “Sesame Street,” which premiered in 1969, was the project of Joan Ganz Cooney, a TV executive who was originally more interested in the civil rights movement than in education but came to see the connection between the two.]"
            ]
          },
          "metadata": {},
          "execution_count": 12
        }
      ]
    },
    {
      "cell_type": "markdown",
      "source": [
        "# **Input Results Into DataFrame**"
      ],
      "metadata": {
        "id": "V_fICHiSrZZx"
      }
    },
    {
      "cell_type": "code",
      "source": [
        "#so we convert each element of the list into a string\n",
        "sentences = list(map(str, repitition_removal))\n",
        "sentences[0:5]"
      ],
      "metadata": {
        "id": "paBwfw8K9kXO",
        "colab": {
          "base_uri": "https://localhost:8080/"
        },
        "outputId": "359c30fd-6119-406d-e82f-d5eff512f7b4"
      },
      "execution_count": 13,
      "outputs": [
        {
          "output_type": "execute_result",
          "data": {
            "text/plain": [
              "['But the party’s hold on power is so slim — the 50-50 split in the Senate means that Vice President Kamala Harris must break tied votes — that the entire Biden agenda is dependent on every single Democrat’s falling into line.',\n",
              " 'President Biden:',\n",
              " '“Chief Justice Roberts is taking a page from his old playbook: acknowledging institutional challenges in the judiciary but telling the public that only we judges can fix them,” Mr. Roth said.',\n",
              " 'Chief Justice Roberts addressed at some length a recent series of articles in The Wall Street Journal that found that 131 federal judges had violated a federal law by hearing 685 lawsuits between 2010 and 2018 that involved companies in which they or their families owned shares of stock.\\n',\n",
              " '“Sesame Street,” which premiered in 1969, was the project of Joan Ganz Cooney, a TV executive who was originally more interested in the civil rights movement than in education but came to see the connection between the two.']"
            ]
          },
          "metadata": {},
          "execution_count": 13
        }
      ]
    },
    {
      "cell_type": "code",
      "source": [
        "sent=pd.DataFrame(sentences, columns=['sentences']) # converting the list to dataframe. The dataframe is called 'sent' - from sentences.\n",
        "sent.head()"
      ],
      "metadata": {
        "id": "kAX66H85Wt9-",
        "colab": {
          "base_uri": "https://localhost:8080/",
          "height": 206
        },
        "outputId": "d30ba112-7a05-4bca-894a-8d1ca1c2126c"
      },
      "execution_count": 14,
      "outputs": [
        {
          "output_type": "execute_result",
          "data": {
            "text/html": [
              "\n",
              "  <div id=\"df-327a1b4d-5c8a-4eeb-90ab-948f42e6bcd3\">\n",
              "    <div class=\"colab-df-container\">\n",
              "      <div>\n",
              "<style scoped>\n",
              "    .dataframe tbody tr th:only-of-type {\n",
              "        vertical-align: middle;\n",
              "    }\n",
              "\n",
              "    .dataframe tbody tr th {\n",
              "        vertical-align: top;\n",
              "    }\n",
              "\n",
              "    .dataframe thead th {\n",
              "        text-align: right;\n",
              "    }\n",
              "</style>\n",
              "<table border=\"1\" class=\"dataframe\">\n",
              "  <thead>\n",
              "    <tr style=\"text-align: right;\">\n",
              "      <th></th>\n",
              "      <th>sentences</th>\n",
              "    </tr>\n",
              "  </thead>\n",
              "  <tbody>\n",
              "    <tr>\n",
              "      <th>0</th>\n",
              "      <td>But the party’s hold on power is so slim — the...</td>\n",
              "    </tr>\n",
              "    <tr>\n",
              "      <th>1</th>\n",
              "      <td>President Biden:</td>\n",
              "    </tr>\n",
              "    <tr>\n",
              "      <th>2</th>\n",
              "      <td>“Chief Justice Roberts is taking a page from h...</td>\n",
              "    </tr>\n",
              "    <tr>\n",
              "      <th>3</th>\n",
              "      <td>Chief Justice Roberts addressed at some length...</td>\n",
              "    </tr>\n",
              "    <tr>\n",
              "      <th>4</th>\n",
              "      <td>“Sesame Street,” which premiered in 1969, was ...</td>\n",
              "    </tr>\n",
              "  </tbody>\n",
              "</table>\n",
              "</div>\n",
              "      <button class=\"colab-df-convert\" onclick=\"convertToInteractive('df-327a1b4d-5c8a-4eeb-90ab-948f42e6bcd3')\"\n",
              "              title=\"Convert this dataframe to an interactive table.\"\n",
              "              style=\"display:none;\">\n",
              "        \n",
              "  <svg xmlns=\"http://www.w3.org/2000/svg\" height=\"24px\"viewBox=\"0 0 24 24\"\n",
              "       width=\"24px\">\n",
              "    <path d=\"M0 0h24v24H0V0z\" fill=\"none\"/>\n",
              "    <path d=\"M18.56 5.44l.94 2.06.94-2.06 2.06-.94-2.06-.94-.94-2.06-.94 2.06-2.06.94zm-11 1L8.5 8.5l.94-2.06 2.06-.94-2.06-.94L8.5 2.5l-.94 2.06-2.06.94zm10 10l.94 2.06.94-2.06 2.06-.94-2.06-.94-.94-2.06-.94 2.06-2.06.94z\"/><path d=\"M17.41 7.96l-1.37-1.37c-.4-.4-.92-.59-1.43-.59-.52 0-1.04.2-1.43.59L10.3 9.45l-7.72 7.72c-.78.78-.78 2.05 0 2.83L4 21.41c.39.39.9.59 1.41.59.51 0 1.02-.2 1.41-.59l7.78-7.78 2.81-2.81c.8-.78.8-2.07 0-2.86zM5.41 20L4 18.59l7.72-7.72 1.47 1.35L5.41 20z\"/>\n",
              "  </svg>\n",
              "      </button>\n",
              "      \n",
              "  <style>\n",
              "    .colab-df-container {\n",
              "      display:flex;\n",
              "      flex-wrap:wrap;\n",
              "      gap: 12px;\n",
              "    }\n",
              "\n",
              "    .colab-df-convert {\n",
              "      background-color: #E8F0FE;\n",
              "      border: none;\n",
              "      border-radius: 50%;\n",
              "      cursor: pointer;\n",
              "      display: none;\n",
              "      fill: #1967D2;\n",
              "      height: 32px;\n",
              "      padding: 0 0 0 0;\n",
              "      width: 32px;\n",
              "    }\n",
              "\n",
              "    .colab-df-convert:hover {\n",
              "      background-color: #E2EBFA;\n",
              "      box-shadow: 0px 1px 2px rgba(60, 64, 67, 0.3), 0px 1px 3px 1px rgba(60, 64, 67, 0.15);\n",
              "      fill: #174EA6;\n",
              "    }\n",
              "\n",
              "    [theme=dark] .colab-df-convert {\n",
              "      background-color: #3B4455;\n",
              "      fill: #D2E3FC;\n",
              "    }\n",
              "\n",
              "    [theme=dark] .colab-df-convert:hover {\n",
              "      background-color: #434B5C;\n",
              "      box-shadow: 0px 1px 3px 1px rgba(0, 0, 0, 0.15);\n",
              "      filter: drop-shadow(0px 1px 2px rgba(0, 0, 0, 0.3));\n",
              "      fill: #FFFFFF;\n",
              "    }\n",
              "  </style>\n",
              "\n",
              "      <script>\n",
              "        const buttonEl =\n",
              "          document.querySelector('#df-327a1b4d-5c8a-4eeb-90ab-948f42e6bcd3 button.colab-df-convert');\n",
              "        buttonEl.style.display =\n",
              "          google.colab.kernel.accessAllowed ? 'block' : 'none';\n",
              "\n",
              "        async function convertToInteractive(key) {\n",
              "          const element = document.querySelector('#df-327a1b4d-5c8a-4eeb-90ab-948f42e6bcd3');\n",
              "          const dataTable =\n",
              "            await google.colab.kernel.invokeFunction('convertToInteractive',\n",
              "                                                     [key], {});\n",
              "          if (!dataTable) return;\n",
              "\n",
              "          const docLinkHtml = 'Like what you see? Visit the ' +\n",
              "            '<a target=\"_blank\" href=https://colab.research.google.com/notebooks/data_table.ipynb>data table notebook</a>'\n",
              "            + ' to learn more about interactive tables.';\n",
              "          element.innerHTML = '';\n",
              "          dataTable['output_type'] = 'display_data';\n",
              "          await google.colab.output.renderOutput(dataTable, element);\n",
              "          const docLink = document.createElement('div');\n",
              "          docLink.innerHTML = docLinkHtml;\n",
              "          element.appendChild(docLink);\n",
              "        }\n",
              "      </script>\n",
              "    </div>\n",
              "  </div>\n",
              "  "
            ],
            "text/plain": [
              "                                           sentences\n",
              "0  But the party’s hold on power is so slim — the...\n",
              "1                                   President Biden:\n",
              "2  “Chief Justice Roberts is taking a page from h...\n",
              "3  Chief Justice Roberts addressed at some length...\n",
              "4  “Sesame Street,” which premiered in 1969, was ..."
            ]
          },
          "metadata": {},
          "execution_count": 14
        }
      ]
    },
    {
      "cell_type": "code",
      "source": [
        "sent.to_csv('2021-2022nocorefspacy.csv', index=False) #converts dataframe to csv"
      ],
      "metadata": {
        "id": "5E8MDHWuaX-8"
      },
      "execution_count": 15,
      "outputs": []
    },
    {
      "cell_type": "code",
      "source": [
        "#downloads csv file onto computer\n",
        "from google.colab import files\n",
        "files.download('2021-2022nocorefspacy.csv')"
      ],
      "metadata": {
        "id": "jPqRA5r4goT0"
      },
      "execution_count": 16,
      "outputs": []
    }
  ]
}